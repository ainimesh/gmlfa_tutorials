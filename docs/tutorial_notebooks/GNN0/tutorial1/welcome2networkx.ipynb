{
 "cells": [
  {
   "cell_type": "markdown",
   "metadata": {},
   "source": [
    "# Tutorial 1: Welcome to NetworkX\n",
    "\n",
    "![Status](https://img.shields.io/static/v1.svg?label=Status&message=Working&color=yellow)\n",
    "\n",
    "**Filled notebook:** \n",
    "[![View filled on Github](https://img.shields.io/static/v1.svg?logo=github&label=Repo&message=View%20On%20Github&color=lightgrey)](https://github.com/ainimesh/gmlfa_tutorials/tree/main/docs/tutorial_notebooks/GNN0/tutorial1/welcome2networkx.ipynb)\n",
    "[![Open filled In Collab](https://colab.research.google.com/assets/colab-badge.svg)](https://colab.research.google.com/github/ainimesh/gmlfa_tutorials/tree/main/docs/tutorial_notebooks/GNN0/tutorial1/welcome2networkx.ipynb)\n",
    "\n",
    "**Recordings:** \n",
    "[![YouTube - Part 1](https://img.shields.io/static/v1.svg?logo=youtube&label=YouTube&message=Part%201&color=red)](https://www.youtube.com/watch?v=h08RW3AIBVg&t=2s)  \n",
    "**Author:** Animesh Sachan"
   ]
  },
  {
   "cell_type": "markdown",
   "metadata": {},
   "source": [
    "Welcome to our NetworkX tutorial for the Graph Machine Learning course at the IIT Kharagpur! The following notebook is meant to give an introduction to NetworkX, and get you setup for creating your own graphs and understanding them in depth. NetworkX is a Python package for the creation, manipulation, and study of the structure, dynamics, and functions of complex networks.\n",
    "\n",
    "We are of course not the first ones to create tutorial on NetworkX. There are many great tutorials online, and on the official [NetworkX website](https://networkx.org/documentation/stable/tutorial.html). Yet, we choose to create our own tutorial which is designed to give you the basics particularly necessary for the practicals, but still understand how NetworkX works under the hood. Over the next upcoming tutorials we will keep on exploring more features of NetworkX in the series of Jupyter notebook tutorials about Graph Machine Learning. \n",
    "\n",
    "We will use a set of standard libraries that are often used in graph machine learning projects. If you are running this notebook on Google Colab, all libraries should be pre-installed. If you are running this notebook locally, make sure you have installed our `gmlfa_cpu` environment and have activated it."
   ]
  },
  {
   "cell_type": "code",
   "execution_count": 1,
   "metadata": {},
   "outputs": [
    {
     "name": "stderr",
     "output_type": "stream",
     "text": [
      "/var/folders/7s/7lj__0j916x78ltyhj647wgm0000gn/T/ipykernel_51391/3937499902.py:11: DeprecationWarning: `set_matplotlib_formats` is deprecated since IPython 7.23, directly use `matplotlib_inline.backend_inline.set_matplotlib_formats()`\n",
      "  set_matplotlib_formats('svg', 'pdf') # For export\n"
     ]
    }
   ],
   "source": [
    "## Standard libraries\n",
    "import os\n",
    "import math\n",
    "import numpy as np \n",
    "import time\n",
    "\n",
    "## Imports for plotting\n",
    "import matplotlib.pyplot as plt\n",
    "%matplotlib inline \n",
    "from IPython.display import set_matplotlib_formats\n",
    "set_matplotlib_formats('svg', 'pdf') # For export\n",
    "from matplotlib.colors import to_rgba\n",
    "import seaborn as sns\n",
    "sns.set()\n",
    "\n",
    "## Progress bar\n",
    "from tqdm.notebook import tqdm"
   ]
  },
  {
   "cell_type": "markdown",
   "metadata": {},
   "source": [
    "## The Basics of NetworkX\n",
    "\n",
    "\n",
    "We will start with reviewing the very basic concepts. As a prerequisite, we recommend to be familiar with the `numpy` package as most machine learning frameworks are based on very similar concepts. If you are not familiar with numpy yet, don't worry: here is a [tutorial](https://numpy.org/devdocs/user/quickstart.html) to go through. \n",
    "\n",
    "So, let's start with importing NetworkX. The package is called `networkx`. As a first step, we can check its version:"
   ]
  },
  {
   "cell_type": "code",
   "execution_count": 2,
   "metadata": {},
   "outputs": [
    {
     "name": "stdout",
     "output_type": "stream",
     "text": [
      "version 3.4.1\n"
     ]
    }
   ],
   "source": [
    "import networkx as nx\n",
    "print('version', nx.__version__)"
   ]
  },
  {
   "cell_type": "code",
   "execution_count": null,
   "metadata": {},
   "outputs": [],
   "source": []
  }
 ],
 "metadata": {
  "kernelspec": {
   "display_name": "ainimesh",
   "language": "python",
   "name": "python3"
  },
  "language_info": {
   "codemirror_mode": {
    "name": "ipython",
    "version": 3
   },
   "file_extension": ".py",
   "mimetype": "text/x-python",
   "name": "python",
   "nbconvert_exporter": "python",
   "pygments_lexer": "ipython3",
   "version": "3.12.2"
  }
 },
 "nbformat": 4,
 "nbformat_minor": 2
}
