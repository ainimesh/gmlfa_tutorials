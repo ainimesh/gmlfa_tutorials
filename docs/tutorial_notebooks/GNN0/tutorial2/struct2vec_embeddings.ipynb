{
 "cells": [
  {
   "cell_type": "code",
   "execution_count": null,
   "metadata": {},
   "outputs": [],
   "source": [
    "from struct2vec_utils import *\n",
    "G = nx.barbell_graph(3,3)\n",
    "struct2vec_emb = Struct2Vec(G, dimensions = 4, walk_length = 20, num_walks = 20, window = 5, Q = 0.1)\n",
    "print(struct2vec_emb.vectors)"
   ]
  }
 ],
 "metadata": {
  "kernelspec": {
   "display_name": "base",
   "language": "python",
   "name": "python3"
  },
  "language_info": {
   "name": "python",
   "version": "3.11.5"
  }
 },
 "nbformat": 4,
 "nbformat_minor": 2
}
