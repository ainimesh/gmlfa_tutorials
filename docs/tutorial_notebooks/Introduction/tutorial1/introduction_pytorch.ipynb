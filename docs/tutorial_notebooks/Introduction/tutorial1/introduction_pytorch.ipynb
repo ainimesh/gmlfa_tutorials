{
 "cells": [
  {
   "cell_type": "markdown",
   "metadata": {},
   "source": [
    "# Tutorial 1: Introduction to Pytroch\n",
    "\n",
    "**author**: Animesh"
   ]
  },
  {
   "cell_type": "markdown",
   "metadata": {},
   "source": []
  }
 ],
 "metadata": {
  "language_info": {
   "name": "python"
  }
 },
 "nbformat": 4,
 "nbformat_minor": 2
}
